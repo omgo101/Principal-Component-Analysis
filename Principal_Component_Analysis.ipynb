{
  "cells": [
    {
      "cell_type": "markdown",
      "metadata": {
        "id": "rjODnXcEhGCF"
      },
      "source": [
        "# Learning to implement PCA in python\n",
        "\n",
        "$\\textbf{Mantadory}$ steps to PCA in python are:\n",
        "\n",
        "1. Load dataset. If data set is not standardize then first standardize the data set.\n",
        "2. Use scikit learn to use built in PCA function\n",
        "3. Pass number of principal components required for given data set to the PCA function in Scikit learn\n",
        "4. Fit the function to the data set\n",
        "5. Transform the data\n",
        "\n",
        "$\\textbf{Additional}$ functionality PCA function in scikit learn  are:\n",
        "\n",
        "1. Printing principal components\n",
        "2. Scree plot to identify right number of PC's that describe the dataset by looking at cumulative explained variance ratio\n",
        "3. Biplot to determine impact of each featur on PC\n",
        "\n",
        "\n"
      ]
    },
    {
      "cell_type": "markdown",
      "metadata": {
        "id": "2oTW42BXhGCN"
      },
      "source": [
        "$\\textbf{Loading libraries}$"
      ]
    },
    {
      "cell_type": "code",
      "execution_count": null,
      "metadata": {
        "scrolled": true,
        "id": "k-izdO9JhGCN"
      },
      "outputs": [],
      "source": [
        "import numpy as np #importing numpy for scientific calculation \n",
        "import pandas as pd #importing pandas library for data handling and manipulation\n",
        "import matplotlib.pyplot as plt #importing pyplot module from matplotlib for data visualization including seaborn as sns \n",
        "from sklearn.decomposition import PCA #importing pca algorithm  "
      ]
    },
    {
      "cell_type": "markdown",
      "metadata": {
        "id": "sat33bHQhGCP"
      },
      "source": [
        "$\\textbf{Loading data set. The following code will generate random data set of size (10 x 5). The data set can be loaded\n",
        "using pandas.}$"
      ]
    },
    {
      "cell_type": "code",
      "execution_count": null,
      "metadata": {
        "scrolled": true,
        "colab": {
          "base_uri": "https://localhost:8080/"
        },
        "id": "_wKldzqUhGCQ",
        "outputId": "0357b521-92ee-46c5-c428-1e76018a7e35"
      },
      "outputs": [
        {
          "output_type": "stream",
          "name": "stdout",
          "text": [
            "       var1      var2      var3      var4      var5\n",
            "0 -1.346847  0.543514  0.379212 -0.779663  0.241220\n",
            "1 -1.493889  4.205174  0.730773  0.282723  1.070041\n",
            "2  3.806869 -1.586309 -2.574275  3.256810  1.774302\n",
            "3  0.157578  3.091832  1.201303  0.340621  1.259641\n",
            "4  0.948419 -0.646850  0.019038  0.391361 -0.259532\n",
            "5  1.150338  3.791391 -0.539433  0.274472 -2.410816\n",
            "6  2.566579  0.154659 -1.469855  0.350888 -1.725358\n",
            "7  0.683840 -1.689239 -1.361640  1.007812  3.679521\n",
            "8 -0.458692  2.687893  1.359101 -1.072229 -1.647958\n",
            "9 -0.329454  1.054575 -0.869569  0.990766  4.147813\n"
          ]
        }
      ],
      "source": [
        "data = np.dot(np.random.randn(5, 5), np.random.randn(5, 10)).T #T operator for coverting rows into column\n",
        "data = pd.DataFrame(data)\n",
        "data.columns  = ['var1', 'var2', 'var3', 'var4', 'var5']\n",
        "print(data)"
      ]
    },
    {
      "cell_type": "markdown",
      "metadata": {
        "id": "g0WmsMW4hGCR"
      },
      "source": [
        "$\\textbf{Fitting and tranforming the data set into desired number of dimensionas by controlling the paramter\n",
        "n_components}$\n",
        "\n",
        "Important functions corresponding to implementation of PCA are:\n",
        "\n",
        "1. Fit : fits the data to the required number of PCs\n",
        "2. Transform: transform the data along PCs discovered"
      ]
    },
    {
      "cell_type": "code",
      "execution_count": null,
      "metadata": {
        "scrolled": true,
        "colab": {
          "base_uri": "https://localhost:8080/"
        },
        "id": "MhoHZfqLhGCR",
        "outputId": "d23201b9-79c4-4bec-8ecf-e85e60f9926d"
      },
      "outputs": [
        {
          "output_type": "stream",
          "name": "stdout",
          "text": [
            "(10, 4)\n"
          ]
        }
      ],
      "source": [
        "pca = PCA(n_components=4) # it will transform the existing data set into new dimensioans called PCs\n",
        "pca.fit(data) \n",
        "data_new = pca.transform(data)\n",
        "print(data_new.shape)"
      ]
    },
    {
      "cell_type": "markdown",
      "metadata": {
        "id": "9iZnEIZwhGCS"
      },
      "source": [
        "$\\textbf{Examining PCs and the variance expained by them}$\n",
        "\n",
        "Important functions corresponding to PCA in scikit learn are:\n",
        "\n",
        "1. components_  : gives PCs for given data set\n",
        "2. explaiined_variance_ratio: Explains variance explained by each PC\n",
        "\n"
      ]
    },
    {
      "cell_type": "code",
      "execution_count": null,
      "metadata": {
        "scrolled": true,
        "colab": {
          "base_uri": "https://localhost:8080/"
        },
        "id": "fkTvXnWphGCT",
        "outputId": "085bbdb8-8059-4b7a-b150-1d2aa7a6250f"
      },
      "outputs": [
        {
          "output_type": "stream",
          "name": "stdout",
          "text": [
            "[57.15575607 30.10582569 10.49422135  1.68463937]\n",
            "Printing the relation of PCs and variables present in the data set\n",
            "................................................................\n",
            "          0         1         2         3         4\n",
            "0  0.354840 -0.655862 -0.364169  0.319943  0.457112\n",
            "1  0.541432 -0.138999 -0.192119  0.046416 -0.805274\n",
            "2 -0.374101 -0.719334  0.231685 -0.494320 -0.211132\n",
            "3  0.409104 -0.099578  0.878145  0.206452  0.094647\n",
            "..................................................\n",
            "The linear equations of Principal components are: \n",
            "..................................................\n",
            "PC1=0.35*var1+-0.66*var2+-0.36*var3+0.32*var4+0.46*var5\n",
            "PC2=0.54*var1+-0.14*var2+-0.19*var3+0.05*var4+-0.81*var5\n",
            "PC3=-0.37*var1+-0.72*var2+0.23*var3+-0.49*var4+-0.21*var5\n",
            "PC4=0.41*var1+-0.1*var2+0.88*var3+0.21*var4+0.09*var5\n"
          ]
        }
      ],
      "source": [
        "print(pca.explained_variance_ratio_ *100) # It will print variance explained by each PC\n",
        "\n",
        "print('Printing the relation of PC''s and variables present in the data set')\n",
        "print(\"................................................................\")\n",
        "\n",
        "All_PCs = pd.DataFrame(pca.components_)\n",
        "print(All_PCs)\n",
        "\n",
        "All_PCs.columns  = ['var1', 'var2', 'var3', 'var4', 'var5']\n",
        "index1 = ['PC1', 'PC2', 'PC3', 'PC4']\n",
        "All_PCs = pd.DataFrame(All_PCs)\n",
        "All_PCs.index= index1\n",
        "\n",
        "\n",
        "print(\"..................................................\")\n",
        "print(\"The linear equations of Principal components are: \")\n",
        "print(\"..................................................\")\n",
        "print('PC1' + '=' + str(np.round(All_PCs.iloc[0,0],2)) + '*' + 'var1' +  '+' + str(np.round(All_PCs.iloc[0,1],2)) + '*' + 'var2' + '+' +  str(np.round(All_PCs.iloc[0,2],2)) + '*' + 'var3' + '+' + str(np.round(All_PCs.iloc[0,3],2)) + '*' + 'var4' +  '+' + str(np.round(All_PCs.iloc[0,4],2)) + '*' + 'var5')\n",
        "\n",
        "print('PC2' + '=' + str(np.round(All_PCs.iloc[1,0],2)) + '*' + 'var1' +  '+' + str(np.round(All_PCs.iloc[1,1],2)) + '*' + 'var2' + '+' +  str(np.round(All_PCs.iloc[1,2],2)) + '*' + 'var3' + '+' + str(np.round(All_PCs.iloc[1,3],2)) + '*' + 'var4' +  '+' + str(np.round(All_PCs.iloc[1,4],2)) + '*' + 'var5')\n",
        "print('PC3' + '=' + str(np.round(All_PCs.iloc[2,0],2)) + '*' + 'var1' +  '+' + str(np.round(All_PCs.iloc[2,1],2)) + '*' + 'var2' + '+' +  str(np.round(All_PCs.iloc[2,2],2)) + '*' + 'var3' + '+' + str(np.round(All_PCs.iloc[2,3],2)) + '*' + 'var4' +  '+' + str(np.round(All_PCs.iloc[2,4],2)) + '*' + 'var5')\n",
        "print('PC4' + '=' + str(np.round(All_PCs.iloc[3,0],2)) + '*' + 'var1' +  '+' + str(np.round(All_PCs.iloc[3,1],2)) + '*' + 'var2' + '+' +  str(np.round(All_PCs.iloc[3,2],2)) + '*' + 'var3' + '+' + str(np.round(All_PCs.iloc[3,3],2)) + '*' + 'var4' +  '+' + str(np.round(All_PCs.iloc[3,4],2)) + '*' + 'var5')\n",
        "\n"
      ]
    },
    {
      "cell_type": "markdown",
      "metadata": {
        "id": "2zHW0efQhGCU"
      },
      "source": [
        "$\\textbf{Identifying best number of principal components based on variance explained by them using scree plot}$"
      ]
    },
    {
      "cell_type": "code",
      "execution_count": null,
      "metadata": {
        "scrolled": true,
        "colab": {
          "base_uri": "https://localhost:8080/",
          "height": 312
        },
        "id": "DwcMYOBYhGCV",
        "outputId": "9e5d65ac-df66-4cc3-9945-934632e88a01"
      },
      "outputs": [
        {
          "output_type": "execute_result",
          "data": {
            "text/plain": [
              "Text(0.5, 1.0, 'Scree plot')"
            ]
          },
          "metadata": {},
          "execution_count": 6
        },
        {
          "output_type": "display_data",
          "data": {
            "text/plain": [
              "<Figure size 432x288 with 1 Axes>"
            ],
            "image/png": "[encoded data removed]"
          },
          "metadata": {
            "needs_background": "light"
          }
        }
      ],
      "source": [
        "Variance_Explaied=np.cumsum(np.round(pca.explained_variance_ratio_, decimals=4)*100) # cummilative variance\n",
        "plt.plot(Variance_Explaied)\n",
        "plt.xlabel('number of components')\n",
        "plt.ylabel('cumulative explained variance')\n",
        "plt.title('Scree plot')"
      ]
    },
    {
      "cell_type": "markdown",
      "metadata": {
        "id": "KVxPRCBWhGCW"
      },
      "source": [
        "$\\textbf{Plotting Biplot}$ \n",
        "\n",
        "Biplot is a visual representation that shows the contribution of different features on principal components. \n"
      ]
    },
    {
      "cell_type": "code",
      "execution_count": null,
      "metadata": {
        "scrolled": true,
        "colab": {
          "base_uri": "https://localhost:8080/",
          "height": 288
        },
        "id": "Od82AOL1hGCW",
        "outputId": "3ab91fbd-3bde-4dc3-cf72-8f70b4c09d07"
      },
      "outputs": [
        {
          "output_type": "display_data",
          "data": {
            "text/plain": [
              "<Figure size 432x288 with 1 Axes>"
            ],
            "image/png": "[encoded data removed]"
          },
          "metadata": {
            "needs_background": "light"
          }
        }
      ],
      "source": [
        "PC1 = All_PCs.iloc[0]\n",
        "PC2 = All_PCs.iloc[1]\n",
        "\n",
        "xs =data_new[:,0]\n",
        "ys = data_new[:,1]\n",
        "\n",
        "for i in range(len(PC1)):\n",
        "    plt.arrow(0, 0, PC1[i]*max(xs), PC2[i]*max(ys),\n",
        "              color='r', width=0.0005, head_width=0.0025)\n",
        "    plt.text(PC1[i]*max(xs)*1.1, PC2[i]*max(ys)*1.1,\n",
        "             list(data.columns.values)[i], color='r')\n",
        "    \n",
        "for i in range(len(xs)):\n",
        "# circles project documents (ie rows from csv) as points onto PC axes\n",
        "    plt.plot(xs[i], ys[i], 'bo')\n",
        "    plt.text(xs[i]*1.1, ys[i]*1.1, list(data.index)[i], color='b')    \n",
        "    \n",
        "plt.xlabel('PC1')\n",
        "plt.ylabel('PC2')\n",
        "plt.show()"
      ]
    },
    {
      "cell_type": "code",
      "execution_count": null,
      "metadata": {
        "scrolled": true,
        "id": "5p92aKWvhGCX"
      },
      "outputs": [],
      "source": [
        ""
      ]
    }
  ],
  "metadata": {
    "kernelspec": {
      "display_name": "Python 3",
      "language": "python",
      "name": "python3"
    },
    "language_info": {
      "codemirror_mode": {
        "name": "ipython",
        "version": 3
      },
      "file_extension": ".py",
      "mimetype": "text/x-python",
      "name": "python",
      "nbconvert_exporter": "python",
      "pygments_lexer": "ipython3",
      "version": "3.6.5"
    },
    "colab": {
      "name": "Principal Component Analysis.ipynb",
      "provenance": []
    }
  },
  "nbformat": 4,
  "nbformat_minor": 0
}